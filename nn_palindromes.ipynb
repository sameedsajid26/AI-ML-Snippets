{
 "cells": [
  {
   "cell_type": "code",
   "execution_count": 2,
   "metadata": {},
   "outputs": [],
   "source": [
    "\n",
    "import torch\n",
    "import torch.nn as nn\n",
    "import torch.optim as optim\n",
    "import matplotlib.pyplot as plt\n"
   ]
  },
  {
   "cell_type": "code",
   "execution_count": 3,
   "metadata": {},
   "outputs": [],
   "source": [
    "device = torch.device(\"cuda\" if torch.cuda.is_available() else \"cpu\")"
   ]
  },
  {
   "cell_type": "code",
   "execution_count": 4,
   "metadata": {},
   "outputs": [
    {
     "data": {
      "text/plain": [
       "device(type='cpu')"
      ]
     },
     "execution_count": 4,
     "metadata": {},
     "output_type": "execute_result"
    }
   ],
   "source": [
    "device"
   ]
  },
  {
   "cell_type": "markdown",
   "metadata": {},
   "source": [
    "### Genearting the Dataset"
   ]
  },
  {
   "cell_type": "code",
   "execution_count": 5,
   "metadata": {},
   "outputs": [
    {
     "name": "stdout",
     "output_type": "stream",
     "text": [
      "Sample training data (200 examples):\n",
      "(44, 1)\n",
      "(3, 1)\n",
      "(22, 1)\n",
      "(181, 1)\n",
      "(198276, 0)\n",
      "(420386, 0)\n",
      "(49203, 0)\n",
      "(9, 1)\n",
      "(204402, 1)\n",
      "(75644, 0)\n",
      "\n",
      "Sample test data:\n",
      "(480929, 0)\n",
      "(566113, 0)\n",
      "(968680, 0)\n",
      "(2, 1)\n",
      "(99, 1)\n",
      "(702432, 0)\n",
      "(335710, 0)\n",
      "(626074, 0)\n",
      "(3, 1)\n",
      "(98951, 0)\n"
     ]
    }
   ],
   "source": [
    "import random\n",
    "from sklearn.model_selection import train_test_split\n",
    "\n",
    "def is_palindrome(num):\n",
    "    \"\"\"Check if a number is a palindrome.\"\"\"\n",
    "    return str(num) == str(num)[::-1]\n",
    "\n",
    "def generate_data(num_examples):\n",
    "    \"\"\"Generate a dataset of palindromic and non-palindromic numbers.\"\"\"\n",
    "    examples = []\n",
    "    half = num_examples // 2\n",
    "    \n",
    "    # Generate palindromes\n",
    "    for _ in range(half):\n",
    "        digits = random.randint(1, 6)  # Number of digits (1-6)\n",
    "        if digits == 1:\n",
    "            # For 1-digit palindromes, just pick a random digit (0-9)\n",
    "            palindrome = random.randint(0, 9)\n",
    "        else:\n",
    "            # Generate half of the digits for the palindrome\n",
    "            half_digits = random.randint(1, 10**(digits // 2) - 1)\n",
    "            if digits % 2 == 0:\n",
    "                # Even number of digits: mirror the half_digits\n",
    "                palindrome = int(str(half_digits) + str(half_digits)[::-1])\n",
    "            else:\n",
    "                # Odd number of digits: mirror the half_digits without the last digit\n",
    "                palindrome = int(str(half_digits) + str(half_digits)[::-1][1:])\n",
    "        examples.append((palindrome, 1))\n",
    "\n",
    "    # Generate non-palindromes\n",
    "    while len(examples) < num_examples:\n",
    "        num = random.randint(1, 999999)  # Random number up to 6 digits\n",
    "        if not is_palindrome(num):\n",
    "            examples.append((num, 0))\n",
    "\n",
    "    random.shuffle(examples)\n",
    "    return examples\n",
    "\n",
    "# Generate a dataset of 25,000 examples\n",
    "full_data = generate_data(25000)\n",
    "\n",
    "# Split the data into training (80%) and test (20%) sets\n",
    "train_data, test_data = train_test_split(full_data, test_size=0.2, random_state=42)\n",
    "\n",
    "# Function to save datasets to a text file\n",
    "def save_data(filename, data):\n",
    "    \"\"\"Save the dataset to a text file.\"\"\"\n",
    "    with open(filename, 'w') as f:\n",
    "        for num, label in data:\n",
    "            f.write(f'{num}\\t{label}\\n')\n",
    "\n",
    "# Function to extract a subset of training or test data\n",
    "def get_subset(data, num_samples):\n",
    "    \"\"\"Extract a subset of data.\"\"\"\n",
    "    return random.sample(data, num_samples)\n",
    "\n",
    "# Save training subsets of 200, 2000, and 20,000 samples\n",
    "save_data('train_set_200.txt', get_subset(train_data, 200))\n",
    "save_data('train_set_2000.txt', get_subset(train_data, 2000))\n",
    "save_data('train_set_20000.txt', get_subset(train_data, 20000))\n",
    "\n",
    "# Save proportional test sets\n",
    "save_data('test_set_5000.txt', test_data)  # Full test set (5000 samples) for the 20,000-sample training set\n",
    "\n",
    "# Print some sample data for verification\n",
    "print(\"Sample training data (200 examples):\")\n",
    "for example in get_subset(train_data, 10):\n",
    "    print(example)\n",
    "\n",
    "print(\"\\nSample test data:\")\n",
    "for example in test_data[:10]:\n",
    "    print(example)"
   ]
  },
  {
   "cell_type": "markdown",
   "metadata": {},
   "source": [
    "### Data Preprocessing"
   ]
  },
  {
   "cell_type": "code",
   "execution_count": 6,
   "metadata": {},
   "outputs": [],
   "source": [
    "def number_to_tensor(number):\n",
    "    # Convert the number into a one-hot encoded tensor (assuming base-10 digits)\n",
    "    digits = [int(digit) for digit in str(number)]\n",
    "    \n",
    "    # Create an empty tensor of shape [seq_len, 10] for one-hot encoding\n",
    "    tensor = torch.zeros(len(digits), 10)\n",
    "    \n",
    "    # One-hot encode the digits\n",
    "    for i, digit in enumerate(digits):\n",
    "        tensor[i][digit] = 1\n",
    "    \n",
    "    return tensor  # Shape: [seq_len, 10], no extra dimensions"
   ]
  },
  {
   "cell_type": "code",
   "execution_count": 7,
   "metadata": {},
   "outputs": [],
   "source": [
    "import torch\n",
    "import torch.nn as nn\n",
    "from torch.nn.utils.rnn import pack_padded_sequence, pad_packed_sequence\n",
    "\n",
    "class PalindromeRNN(nn.Module):\n",
    "    def __init__(self, input_size, hidden_size, output_size):\n",
    "        super(PalindromeRNN, self).__init__()\n",
    "        self.hidden_size = hidden_size\n",
    "        self.rnn = nn.RNN(input_size, hidden_size, batch_first=True)\n",
    "        self.fc = nn.Linear(hidden_size, output_size)\n",
    "        self.softmax = nn.LogSoftmax(dim=1)\n",
    "\n",
    "    def forward(self, input_tensor, lengths):\n",
    "        # Initialize hidden state: shape (num_layers, batch_size, hidden_size)\n",
    "        batch_size = input_tensor.size(0)\n",
    "        hidden = self.init_hidden(batch_size)\n",
    "        \n",
    "        # Pack the padded input sequences based on lengths\n",
    "        packed_input = pack_padded_sequence(input_tensor, lengths, batch_first=True, enforce_sorted=False)\n",
    "        \n",
    "        # Forward pass through the RNN with packed sequence\n",
    "        packed_output, hidden = self.rnn(packed_input, hidden)\n",
    "        \n",
    "        # Unpack the sequences (optional, if you need the full sequence output)\n",
    "        output, _ = pad_packed_sequence(packed_output, batch_first=True)\n",
    "        \n",
    "        # Use the last hidden state for classification\n",
    "        # hidden[-1] contains the final hidden state of the last layer\n",
    "        output = self.fc(hidden.squeeze(0))  # Squeeze the first dimension (num_layers = 1)\n",
    "        \n",
    "        return self.softmax(output)\n",
    "\n",
    "    def init_hidden(self, batch_size):\n",
    "        # Initialize hidden state as zeros: shape (num_layers, batch_size, hidden_size)\n",
    "        return torch.zeros(1, batch_size, self.hidden_size)"
   ]
  },
  {
   "cell_type": "code",
   "execution_count": 8,
   "metadata": {},
   "outputs": [],
   "source": [
    "import torch\n",
    "import torch.nn as nn\n",
    "\n",
    "def collate_fn(batch):\n",
    "    # Unpack the batch into numbers and labels\n",
    "    numbers, labels = zip(*batch)\n",
    "    \n",
    "    # Convert numbers to tensors using the number_to_tensor function\n",
    "    tensors = [number_to_tensor(number) for number in numbers]\n",
    "    \n",
    "    # Get the lengths of each tensor (sequence length)\n",
    "    lengths = torch.tensor([t.size(0) for t in tensors])\n",
    "    \n",
    "    # Sort by lengths in descending order (required for RNNs with packed sequences)\n",
    "    lengths, perm_idx = lengths.sort(0, descending=True)\n",
    "    \n",
    "    # Sort tensors and labels based on the sorted order of lengths\n",
    "    tensors = [tensors[i] for i in perm_idx]\n",
    "    labels = torch.tensor([labels[i] for i in perm_idx], dtype=torch.long)\n",
    "    \n",
    "    # Pad sequences to the maximum length in the batch (batch_first=True puts batch size first)\n",
    "    padded_tensors = nn.utils.rnn.pad_sequence(tensors, batch_first=True)\n",
    "    \n",
    "    return padded_tensors, lengths, labels\n"
   ]
  },
  {
   "cell_type": "code",
   "execution_count": 9,
   "metadata": {},
   "outputs": [],
   "source": [
    "# Example training loop using batch processing\n",
    "def train_model(model, train_data, batch_size=32, n_epochs=100, learning_rate=0.001):\n",
    "    # Create DataLoader for batch processing\n",
    "    train_loader = torch.utils.data.DataLoader(train_data, batch_size=batch_size, shuffle=True, collate_fn=collate_fn)\n",
    "    \n",
    "    # Loss function and optimizer\n",
    "    criterion = nn.NLLLoss()  # Negative log-likelihood loss for classification\n",
    "    optimizer = torch.optim.Adam(model.parameters(), lr=learning_rate)\n",
    "    \n",
    "    # Track loss over epochs\n",
    "    losses = []\n",
    "\n",
    "    for epoch in range(n_epochs):\n",
    "        total_loss = 0\n",
    "        model.train()  # Set the model to training mode\n",
    "        \n",
    "        for batch in train_loader:\n",
    "            input_tensors, lengths, labels = batch\n",
    "            print(input_tensors.shape)\n",
    "            # Move data to the same device as the model (GPU or CPU)\n",
    "            input_tensors, lengths, labels = input_tensors.to(device), lengths.to(device), labels.to(device)\n",
    "            \n",
    "            # Zero the gradients\n",
    "            optimizer.zero_grad()\n",
    "            \n",
    "            # Forward pass\n",
    "            output = model(input_tensors, lengths)\n",
    "            \n",
    "            # Calculate loss\n",
    "            loss = criterion(output, labels)\n",
    "            total_loss += loss.item()\n",
    "            \n",
    "            # Backward pass and optimization\n",
    "            loss.backward()\n",
    "            optimizer.step()\n",
    "        \n",
    "        # Average loss for the epoch\n",
    "        avg_loss = total_loss / len(train_loader)\n",
    "        losses.append(avg_loss)\n",
    "        \n",
    "        # Print loss every 10 epochs (or choose a suitable interval)\n",
    "        if (epoch + 1) % 10 == 0:\n",
    "            print(f'Epoch {epoch+1}/{n_epochs}, Loss: {avg_loss:.4f}')\n",
    "    \n",
    "    return losses\n"
   ]
  },
  {
   "cell_type": "code",
   "execution_count": 10,
   "metadata": {},
   "outputs": [],
   "source": [
    "import torch\n",
    "\n",
    "def evaluate_model(model, test_data, batch_size=32):\n",
    "    model.eval()  # Set the model to evaluation mode\n",
    "    correct = 0\n",
    "    total = 0\n",
    "\n",
    "    # Create a DataLoader for the test data\n",
    "    test_loader = torch.utils.data.DataLoader(test_data, batch_size=batch_size, shuffle=True, collate_fn=collate_fn)\n",
    "\n",
    "    with torch.no_grad():  # Disable gradient calculation for evaluation\n",
    "        for batch in test_loader:\n",
    "            input_tensors, lengths, labels = batch\n",
    "\n",
    "            # Move tensors to the correct device (GPU or CPU)\n",
    "            input_tensors = input_tensors.to(device)\n",
    "            labels = labels.to(device)\n",
    "\n",
    "            # Forward pass through the model\n",
    "            output = model(input_tensors, lengths)\n",
    "\n",
    "            # Get the predicted class (0 or 1)\n",
    "            _, predicted = torch.max(output, 1)\n",
    "\n",
    "            # Update accuracy\n",
    "            total += labels.size(0)\n",
    "            correct += (predicted == labels).sum().item()\n",
    "\n",
    "    accuracy = correct / total\n",
    "    print(f'Accuracy: {accuracy * 100:.2f}%')\n",
    "    return accuracy\n",
    "\n",
    "# Function to plot the loss graph\n",
    "def plot_loss(losses, title=\"Training Loss\"):\n",
    "    plt.figure(figsize=(8, 6))\n",
    "    plt.plot(losses, label='Training Loss')\n",
    "    plt.xlabel('Epoch')\n",
    "    plt.ylabel('Loss')\n",
    "    plt.title(title)\n",
    "    plt.legend()\n",
    "    plt.grid(True)\n",
    "    plt.show()\n",
    "\n",
    "# Function to load data from a file and convert to appropriate format\n",
    "def load_data(filename):\n",
    "    \"\"\"Load the dataset from a text file.\"\"\"\n",
    "    data = []\n",
    "    with open(filename, 'r') as f:\n",
    "        for line in f:\n",
    "            num_str, label_str = line.split()\n",
    "            num = int(num_str)\n",
    "            label = int(label_str)\n",
    "            data.append((num, label))  # Data is a tuple (number, label)\n",
    "    return data\n"
   ]
  },
  {
   "cell_type": "code",
   "execution_count": 11,
   "metadata": {},
   "outputs": [],
   "source": [
    "# Load the dataset\n",
    "train_data_200 = load_data('train_set_200.txt')  # 200 samples\n",
    "train_data_2000 = load_data('train_set_2000.txt')  # 2000 samples\n",
    "train_data_20000 = load_data('train_set_20000.txt')  # 20000 samples\n",
    "test_data = load_data('test_set_5000.txt')  # 5000 test samples\n",
    "\n",
    "# Instantiate the model\n",
    "input_size = 10  # One-hot encoding size for digits (0-9)\n",
    "hidden_size = 128  # Hidden size of the RNN\n",
    "output_size = 2  # Output classes: palindrome or not\n",
    "\n"
   ]
  },
  {
   "cell_type": "markdown",
   "metadata": {},
   "source": [
    "### Train and evaluate on 200 samples"
   ]
  },
  {
   "cell_type": "code",
   "execution_count": 12,
   "metadata": {},
   "outputs": [],
   "source": [
    "# Train and evaluate on 200 samples\n",
    "# print(\"Training on 200 samples:\")\n",
    "# model_200 = PalindromeRNN(input_size, hidden_size, output_size)\n",
    "# losses_200 = train_model(model_200, train_data_200, batch_size=32, n_epochs=100)\n",
    "# # Plot the training loss\n",
    "# plot_loss(losses_200, title=\"Training Loss (200 samples)\")\n",
    "# evaluate_model(model_200, test_data)"
   ]
  },
  {
   "cell_type": "markdown",
   "metadata": {},
   "source": [
    "### Train and evaluate on 2000 samples"
   ]
  },
  {
   "cell_type": "code",
   "execution_count": 13,
   "metadata": {},
   "outputs": [],
   "source": [
    "# # Train and evaluate on 2000 samples\n",
    "# print(\"Training on 2000 samples:\")\n",
    "# model_2000 = PalindromeRNN(input_size, hidden_size, output_size)\n",
    "# losses_2000 = train_model(model_2000, train_data_2000, batch_size=32, n_epochs=100)\n",
    "# plot_loss(losses_2000, title=\"Training Loss (2000 samples)\")\n",
    "# evaluate_model(model_2000, test_data)"
   ]
  },
  {
   "cell_type": "markdown",
   "metadata": {},
   "source": [
    "### Train and evaluate on 20000 samples"
   ]
  },
  {
   "cell_type": "code",
   "execution_count": 14,
   "metadata": {},
   "outputs": [],
   "source": [
    "# # Train and evaluate on 20000 samples\n",
    "# print(\"Training on 20000 samples:\")\n",
    "# model_20000 = PalindromeRNN(input_size, hidden_size, output_size)\n",
    "# losses_20000 = train_model(model_20000, train_data_20000, batch_size=32, n_epochs=100)\n",
    "# plot_loss(losses_20000, title=\"Training Loss (20000 samples)\")\n",
    "# evaluate_model(model_20000, test_data)"
   ]
  },
  {
   "cell_type": "code",
   "execution_count": 15,
   "metadata": {},
   "outputs": [
    {
     "name": "stdout",
     "output_type": "stream",
     "text": [
      "Sample hard data (10 examples):\n",
      "(2992, 1)\n",
      "(889988, 1)\n",
      "(841148, 1)\n",
      "(367763, 1)\n",
      "(866668, 1)\n",
      "(6776, 1)\n",
      "(86778, 0)\n",
      "(882388, 0)\n",
      "(520025, 1)\n",
      "(756657, 1)\n"
     ]
    }
   ],
   "source": [
    "import random\n",
    "\n",
    "def is_palindrome(num):\n",
    "    \"\"\"Check if a number is a palindrome.\"\"\"\n",
    "    return str(num) == str(num)[::-1]\n",
    "\n",
    "def generate_hard_samples(num_examples):\n",
    "    \"\"\"Generate a dataset of palindromic and non-palindromic numbers with 4 to 6 digits.\"\"\"\n",
    "    examples = []\n",
    "    half = num_examples // 2\n",
    "    \n",
    "    # Generate challenging palindromes\n",
    "    for _ in range(half):\n",
    "        digits = random.randint(4, 6)  # Number of digits (4-6)\n",
    "        \n",
    "        if digits == 4:\n",
    "            # Generate a 4-digit palindrome\n",
    "            half_digits = random.randint(10, 99)  # Two-digit number to mirror\n",
    "            palindrome = int(str(half_digits) + str(half_digits)[::-1])\n",
    "        elif digits == 5:\n",
    "            # Generate a 5-digit palindrome\n",
    "            half_digits = random.randint(10, 99)  # First two digits\n",
    "            middle_digit = random.randint(0, 9)  # Middle digit\n",
    "            palindrome = int(str(half_digits) + str(middle_digit) + str(half_digits)[::-1])\n",
    "        else:\n",
    "            # Generate a 6-digit palindrome\n",
    "            half_digits = random.randint(100, 999)  # Three-digit number to mirror\n",
    "            palindrome = int(str(half_digits) + str(half_digits)[::-1])\n",
    "        \n",
    "        examples.append((palindrome, 1))\n",
    "    \n",
    "    # Generate non-palindromes that look similar to palindromes\n",
    "    while len(examples) < num_examples:\n",
    "        digits = random.randint(4, 6)  # Number of digits (4-6)\n",
    "        \n",
    "        if digits == 4:\n",
    "            # Generate a 4-digit non-palindrome close to a palindrome\n",
    "            half_digits = random.randint(10, 99)\n",
    "            non_palindrome = int(str(half_digits) + str(half_digits + 1)[::-1])  # Off by 1\n",
    "        elif digits == 5:\n",
    "            # Generate a 5-digit non-palindrome close to a palindrome\n",
    "            half_digits = random.randint(10, 99)\n",
    "            middle_digit = random.randint(0, 9)\n",
    "            # Off by a small value in the middle or end\n",
    "            if random.random() > 0.5:\n",
    "                non_palindrome = int(str(half_digits) + str((middle_digit + 1) % 10) + str(half_digits)[::-1])\n",
    "            else:\n",
    "                non_palindrome = int(str(half_digits) + str(middle_digit) + str(half_digits + 1)[::-1])\n",
    "        else:\n",
    "            # Generate a 6-digit non-palindrome close to a palindrome\n",
    "            half_digits = random.randint(100, 999)\n",
    "            non_palindrome = int(str(half_digits) + str(half_digits + 1)[::-1])  # Off by 1\n",
    "            \n",
    "        if not is_palindrome(non_palindrome):\n",
    "            examples.append((non_palindrome, 0))\n",
    "    \n",
    "    random.shuffle(examples)\n",
    "    return examples\n",
    "\n",
    "# Generate the dataset with 500 examples\n",
    "hard_data = generate_hard_samples(500)\n",
    "\n",
    "# Function to save the dataset to a text file\n",
    "def save_data(filename, data):\n",
    "    \"\"\"Save the dataset to a text file.\"\"\"\n",
    "    with open(filename, 'w') as f:\n",
    "        for num, label in data:\n",
    "            f.write(f'{num}\\t{label}\\n')\n",
    "\n",
    "# Save the hard dataset to a file\n",
    "save_data('hard_dataset_500.txt', hard_data)\n",
    "\n",
    "# Print some sample data for verification\n",
    "print(\"Sample hard data (10 examples):\")\n",
    "for example in hard_data[:10]:\n",
    "    print(example)"
   ]
  },
  {
   "cell_type": "code",
   "execution_count": 16,
   "metadata": {},
   "outputs": [],
   "source": [
    "# test_hard = load_data('hard_dataset_500.txt')\n",
    "\n",
    "# print(\"RNN model acuracy on hard dataset(trained on 200)\",evaluate_model(model_200, test_hard))\n",
    "# print(\"RNN model acuracy on hard dataset(trained on 2000)\",evaluate_model(model_2000, test_hard))\n",
    "# print(\"RNN model acuracy on hard dataset(trained on 20000)\",evaluate_model(model_20000, test_hard))\n",
    "# evaluate_model(model_20000, test_hard)"
   ]
  },
  {
   "cell_type": "code",
   "execution_count": 17,
   "metadata": {},
   "outputs": [],
   "source": [
    "\n",
    "# # Save the entire model (not just the state dictionary)\n",
    "# torch.save(model_200, \"palindrome_model_200.pth\")\n",
    "# torch.save(model_2000, \"palindrome_model_2000.pth\")\n",
    "# torch.save(model_20000, \"palindrome_model_20000.pth\")\n",
    "# Load the full model\n",
    "# model = torch.load(\"palindrome_model_200.pth\")\n",
    "# model.eval()"
   ]
  },
  {
   "cell_type": "code",
   "execution_count": 18,
   "metadata": {},
   "outputs": [],
   "source": [
    "# evaluate_model(model, test_hard)"
   ]
  },
  {
   "cell_type": "markdown",
   "metadata": {},
   "source": [
    "## Instructions to run on test set"
   ]
  },
  {
   "cell_type": "markdown",
   "metadata": {},
   "source": [
    "### Make sure to run the functions above\n",
    "### Step 1: replace hard_dataset_500.txt with your own test set file\n",
    "\n",
    "#### test_data = load_data('hard_dataset_500.txt')\n",
    "\n",
    "\n",
    "### Step 2: load the saved models\n",
    "#### model = torch.load(\"palindrome_model_200.pth\")\n",
    "#### evaluate_model(model, test_data)\n",
    "\n"
   ]
  },
  {
   "cell_type": "code",
   "execution_count": 19,
   "metadata": {},
   "outputs": [],
   "source": [
    "#uncomment below block to evaulate models on test set. Replace \"palindrome_model_2000.pth\" with the model you want to evaluate"
   ]
  },
  {
   "cell_type": "code",
   "execution_count": 20,
   "metadata": {},
   "outputs": [
    {
     "name": "stdout",
     "output_type": "stream",
     "text": [
      "Accuracy: 74.80%\n"
     ]
    },
    {
     "data": {
      "text/plain": [
       "0.748"
      ]
     },
     "execution_count": 20,
     "metadata": {},
     "output_type": "execute_result"
    }
   ],
   "source": [
    "# Function to load data from a file and convert to appropriate format\n",
    "def load_data(filename):\n",
    "    \"\"\"Load the dataset from a text file.\"\"\"\n",
    "    data = []\n",
    "    with open(filename, 'r') as f:\n",
    "        for line in f:\n",
    "            num_str, label_str = line.split()\n",
    "            num = int(num_str)\n",
    "            label = int(label_str)\n",
    "            data.append((num, label))  # Data is a tuple (number, label)\n",
    "    return data\n",
    "\n",
    "\n",
    "test_data = load_data('hard_dataset_500.txt')\n",
    "\n",
    "model = torch.load(\"palindrome_model_20000.pth\")\n",
    "\n",
    "evaluate_model(model, test_data)"
   ]
  },
  {
   "cell_type": "markdown",
   "metadata": {},
   "source": []
  }
 ],
 "metadata": {
  "kernelspec": {
   "display_name": "base",
   "language": "python",
   "name": "python3"
  },
  "language_info": {
   "codemirror_mode": {
    "name": "ipython",
    "version": 3
   },
   "file_extension": ".py",
   "mimetype": "text/x-python",
   "name": "python",
   "nbconvert_exporter": "python",
   "pygments_lexer": "ipython3",
   "version": "3.8.2"
  }
 },
 "nbformat": 4,
 "nbformat_minor": 2
}
